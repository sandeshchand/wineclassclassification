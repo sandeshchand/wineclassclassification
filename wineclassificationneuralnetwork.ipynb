{
  "nbformat": 4,
  "nbformat_minor": 0,
  "metadata": {
    "colab": {
      "provenance": [],
      "authorship_tag": "ABX9TyOU7pa0bHuYlwoZ0xzoCjq3",
      "include_colab_link": true
    },
    "kernelspec": {
      "name": "python3",
      "display_name": "Python 3"
    }
  },
  "cells": [
    {
      "cell_type": "markdown",
      "metadata": {
        "id": "view-in-github",
        "colab_type": "text"
      },
      "source": [
        "<a href=\"https://colab.research.google.com/github/sandeshchand/wineclassclassification/blob/main/wineclassificationneuralnetwork.ipynb\" target=\"_parent\"><img src=\"https://colab.research.google.com/assets/colab-badge.svg\" alt=\"Open In Colab\"/></a>"
      ]
    },
    {
      "cell_type": "markdown",
      "metadata": {
        "id": "n2Zkmv7SdpYw"
      },
      "source": [
        "Module 4: Assignment"
      ]
    },
    {
      "cell_type": "code",
      "metadata": {
        "id": "KOm_aDxddj8f"
      },
      "source": [
        "import pandas as pd \n",
        "import matplotlib.pyplot as plt\n",
        "import tensorflow.compat.v1 as tf\n",
        "import numpy as np\n",
        "from sklearn.model_selection import train_test_split"
      ],
      "execution_count": null,
      "outputs": []
    },
    {
      "cell_type": "code",
      "metadata": {
        "id": "v_wobBeKftnh",
        "outputId": "f6be54c5-872d-4c0d-f418-089feeb956f5",
        "colab": {
          "base_uri": "https://localhost:8080/",
          "height": 204
        }
      },
      "source": [
        "data=pd.read_csv(r\"https://www.edureka.co/medias/giu1bur0kw/download?media_file_id=254929809\")\n",
        "data.head(5)"
      ],
      "execution_count": null,
      "outputs": [
        {
          "output_type": "execute_result",
          "data": {
            "text/html": [
              "<div>\n",
              "<style scoped>\n",
              "    .dataframe tbody tr th:only-of-type {\n",
              "        vertical-align: middle;\n",
              "    }\n",
              "\n",
              "    .dataframe tbody tr th {\n",
              "        vertical-align: top;\n",
              "    }\n",
              "\n",
              "    .dataframe thead th {\n",
              "        text-align: right;\n",
              "    }\n",
              "</style>\n",
              "<table border=\"1\" class=\"dataframe\">\n",
              "  <thead>\n",
              "    <tr style=\"text-align: right;\">\n",
              "      <th></th>\n",
              "      <th>Wine</th>\n",
              "      <th>Alcohol</th>\n",
              "      <th>Malic.acid</th>\n",
              "      <th>Ash</th>\n",
              "      <th>Acl</th>\n",
              "      <th>Mg</th>\n",
              "      <th>Phenols</th>\n",
              "      <th>Flavanoids</th>\n",
              "      <th>Nonflavanoid.phenols</th>\n",
              "      <th>Proanth</th>\n",
              "      <th>Color.int</th>\n",
              "      <th>Hue</th>\n",
              "      <th>OD</th>\n",
              "      <th>Proline</th>\n",
              "    </tr>\n",
              "  </thead>\n",
              "  <tbody>\n",
              "    <tr>\n",
              "      <th>0</th>\n",
              "      <td>1</td>\n",
              "      <td>14.23</td>\n",
              "      <td>1.71</td>\n",
              "      <td>2.43</td>\n",
              "      <td>15.6</td>\n",
              "      <td>127</td>\n",
              "      <td>2.80</td>\n",
              "      <td>3.06</td>\n",
              "      <td>0.28</td>\n",
              "      <td>2.29</td>\n",
              "      <td>5.64</td>\n",
              "      <td>1.04</td>\n",
              "      <td>3.92</td>\n",
              "      <td>1065</td>\n",
              "    </tr>\n",
              "    <tr>\n",
              "      <th>1</th>\n",
              "      <td>1</td>\n",
              "      <td>13.20</td>\n",
              "      <td>1.78</td>\n",
              "      <td>2.14</td>\n",
              "      <td>11.2</td>\n",
              "      <td>100</td>\n",
              "      <td>2.65</td>\n",
              "      <td>2.76</td>\n",
              "      <td>0.26</td>\n",
              "      <td>1.28</td>\n",
              "      <td>4.38</td>\n",
              "      <td>1.05</td>\n",
              "      <td>3.40</td>\n",
              "      <td>1050</td>\n",
              "    </tr>\n",
              "    <tr>\n",
              "      <th>2</th>\n",
              "      <td>1</td>\n",
              "      <td>13.16</td>\n",
              "      <td>2.36</td>\n",
              "      <td>2.67</td>\n",
              "      <td>18.6</td>\n",
              "      <td>101</td>\n",
              "      <td>2.80</td>\n",
              "      <td>3.24</td>\n",
              "      <td>0.30</td>\n",
              "      <td>2.81</td>\n",
              "      <td>5.68</td>\n",
              "      <td>1.03</td>\n",
              "      <td>3.17</td>\n",
              "      <td>1185</td>\n",
              "    </tr>\n",
              "    <tr>\n",
              "      <th>3</th>\n",
              "      <td>1</td>\n",
              "      <td>14.37</td>\n",
              "      <td>1.95</td>\n",
              "      <td>2.50</td>\n",
              "      <td>16.8</td>\n",
              "      <td>113</td>\n",
              "      <td>3.85</td>\n",
              "      <td>3.49</td>\n",
              "      <td>0.24</td>\n",
              "      <td>2.18</td>\n",
              "      <td>7.80</td>\n",
              "      <td>0.86</td>\n",
              "      <td>3.45</td>\n",
              "      <td>1480</td>\n",
              "    </tr>\n",
              "    <tr>\n",
              "      <th>4</th>\n",
              "      <td>1</td>\n",
              "      <td>13.24</td>\n",
              "      <td>2.59</td>\n",
              "      <td>2.87</td>\n",
              "      <td>21.0</td>\n",
              "      <td>118</td>\n",
              "      <td>2.80</td>\n",
              "      <td>2.69</td>\n",
              "      <td>0.39</td>\n",
              "      <td>1.82</td>\n",
              "      <td>4.32</td>\n",
              "      <td>1.04</td>\n",
              "      <td>2.93</td>\n",
              "      <td>735</td>\n",
              "    </tr>\n",
              "  </tbody>\n",
              "</table>\n",
              "</div>"
            ],
            "text/plain": [
              "   Wine  Alcohol  Malic.acid   Ash  ...  Color.int   Hue    OD  Proline\n",
              "0     1    14.23        1.71  2.43  ...       5.64  1.04  3.92     1065\n",
              "1     1    13.20        1.78  2.14  ...       4.38  1.05  3.40     1050\n",
              "2     1    13.16        2.36  2.67  ...       5.68  1.03  3.17     1185\n",
              "3     1    14.37        1.95  2.50  ...       7.80  0.86  3.45     1480\n",
              "4     1    13.24        2.59  2.87  ...       4.32  1.04  2.93      735\n",
              "\n",
              "[5 rows x 14 columns]"
            ]
          },
          "metadata": {
            "tags": []
          },
          "execution_count": 4
        }
      ]
    },
    {
      "cell_type": "code",
      "metadata": {
        "id": "wXmBEPyUf_I8"
      },
      "source": [
        "X=data.iloc[:,1:]\n",
        "y=data['Wine']"
      ],
      "execution_count": null,
      "outputs": []
    },
    {
      "cell_type": "markdown",
      "metadata": {
        "id": "Ev7m1RFQiVN-"
      },
      "source": [
        "Splitting the data into train and test"
      ]
    },
    {
      "cell_type": "code",
      "metadata": {
        "id": "OVV5j_zAgNHL"
      },
      "source": [
        "train_X,test_X,train_y,test_y=train_test_split(X,y,test_size=0.2,random_state=30)"
      ],
      "execution_count": null,
      "outputs": []
    },
    {
      "cell_type": "code",
      "metadata": {
        "id": "T8u8r9IwhF76"
      },
      "source": [
        "n_dim=X.shape[1]\n",
        "n_class=2"
      ],
      "execution_count": null,
      "outputs": []
    },
    {
      "cell_type": "markdown",
      "metadata": {
        "id": "P6yy3M7Jqb3Y"
      },
      "source": [
        "#Parameters"
      ]
    },
    {
      "cell_type": "code",
      "metadata": {
        "id": "Ry7rwz5ZqYlM"
      },
      "source": [
        "learning_rate=0.01\n",
        "training_epochs=10\n",
        "\n",
        "batch_size=10\n",
        "dispaly_step=1\n",
        "\n"
      ],
      "execution_count": null,
      "outputs": []
    },
    {
      "cell_type": "markdown",
      "metadata": {
        "id": "mSBdudsuqtbw"
      },
      "source": [
        "#Network Parameters\n"
      ]
    },
    {
      "cell_type": "code",
      "metadata": {
        "id": "_ZThDly1qs3C"
      },
      "source": [
        "n_neurons_in_h1=5\n",
        "n_neurons_in_h2=5\n",
        "n_neurons_in_h3=5"
      ],
      "execution_count": null,
      "outputs": []
    },
    {
      "cell_type": "markdown",
      "metadata": {
        "id": "de1CP9ruwjoh"
      },
      "source": [
        "Creating placeholders"
      ]
    },
    {
      "cell_type": "code",
      "metadata": {
        "id": "q4FUG1GMwi4T",
        "outputId": "7ed50f81-9584-4266-b6a0-e6962c669822",
        "colab": {
          "base_uri": "https://localhost:8080/",
          "height": 88
        }
      },
      "source": [
        "tf.disable_v2_behavior()\n",
        "X=tf.placeholder(tf.float32,[None,n_dim],name='features')\n",
        "Y=tf.placeholder(tf.float32,[None,n_class],name='labels')"
      ],
      "execution_count": null,
      "outputs": [
        {
          "output_type": "stream",
          "text": [
            "WARNING:tensorflow:From /usr/local/lib/python3.6/dist-packages/tensorflow/python/compat/v2_compat.py:96: disable_resource_variables (from tensorflow.python.ops.variable_scope) is deprecated and will be removed in a future version.\n",
            "Instructions for updating:\n",
            "non-resource variables are not supported in the long term\n"
          ],
          "name": "stdout"
        }
      ]
    },
    {
      "cell_type": "markdown",
      "metadata": {
        "id": "6evhVv5Uy4e-"
      },
      "source": [
        "Specifying weights and biase"
      ]
    },
    {
      "cell_type": "code",
      "metadata": {
        "id": "ZUksVXNBy3FS"
      },
      "source": [
        "W1 = tf.Variable(tf.truncated_normal([n_dim, n_neurons_in_h1], mean=0, stddev=1 / np.sqrt(n_dim)), name='weights1')\n",
        "b1 = tf.Variable(tf.truncated_normal([n_neurons_in_h1],mean=0, stddev=1 / np.sqrt(n_dim)), name='biases1')\n",
        "y1 = tf.nn.tanh((tf.matmul(X, W1)+b1), name='activationLayer1')"
      ],
      "execution_count": null,
      "outputs": []
    },
    {
      "cell_type": "code",
      "metadata": {
        "id": "JNbkYIKFzkT-"
      },
      "source": [
        "W2 = tf.Variable(tf.truncated_normal([n_neurons_in_h1, n_neurons_in_h2], mean=0, stddev=1 / np.sqrt(n_dim)), name='weights2')\n",
        "b2 = tf.Variable(tf.truncated_normal([n_neurons_in_h2],mean=0, stddev=1 / np.sqrt(n_dim)), name='biases2')\n",
        "y2 = tf.nn.sigmoid((tf.matmul(y1, W2)+b2), name='activationLayer2')"
      ],
      "execution_count": null,
      "outputs": []
    },
    {
      "cell_type": "code",
      "metadata": {
        "id": "YVeEMhYn0IL9"
      },
      "source": [
        "W3 = tf.Variable(tf.truncated_normal([n_neurons_in_h2, n_neurons_in_h3], mean=0, stddev=1 / np.sqrt(n_dim)), name='weights3')\n",
        "b3 = tf.Variable(tf.truncated_normal([n_neurons_in_h3],mean=0, stddev=1 / np.sqrt(n_dim)), name='biases3')\n",
        "y3 = tf.nn.sigmoid((tf.matmul(y2, W3)+b3), name='activationLayer2')"
      ],
      "execution_count": null,
      "outputs": []
    },
    {
      "cell_type": "markdown",
      "metadata": {
        "id": "UH9b5GS8BGgw"
      },
      "source": []
    },
    {
      "cell_type": "markdown",
      "metadata": {
        "id": "cZYEmU8X0uyD"
      },
      "source": [
        "#output layer weights and biasies"
      ]
    },
    {
      "cell_type": "code",
      "metadata": {
        "id": "YSGEvTiE0tsh"
      },
      "source": [
        "Wo = tf.Variable(tf.random_normal([n_neurons_in_h3, n_class], mean=0, stddev=1/np.sqrt(n_dim)), name='weightsOut')\n",
        "bo = tf.Variable(tf.random_normal([n_class], mean=0, stddev=1/np.sqrt(n_dim)), name='biasesOut')\n",
        "#activation function(softmax)\n",
        "a = tf.nn.softmax((tf.matmul(y2, Wo) + bo), name='activationOutputLayer')"
      ],
      "execution_count": null,
      "outputs": []
    },
    {
      "cell_type": "markdown",
      "metadata": {
        "id": "81exUv8S1Ufx"
      },
      "source": [
        "Setting up the cost function and optimizer"
      ]
    },
    {
      "cell_type": "code",
      "metadata": {
        "id": "hCVEhJnM1Tvq"
      },
      "source": [
        "cost_function=tf.reduce_mean(-tf.reduce_sum(Y * tf.log(a),reduction_indices=[1]))\n",
        "train_step=tf.train.GradientDescentOptimizer(learning_rate).minimize(cost_function)"
      ],
      "execution_count": null,
      "outputs": []
    },
    {
      "cell_type": "markdown",
      "metadata": {
        "id": "iVjKN5yu3nxm"
      },
      "source": [
        "Accuracy calculation"
      ]
    },
    {
      "cell_type": "code",
      "metadata": {
        "id": "X4DEhOnl3mHt"
      },
      "source": [
        "correct_prediction = tf.equal(tf.argmax(a, 1), tf.argmax(Y, 1))\n",
        "accuracy = tf.reduce_mean(tf.cast(correct_prediction, tf.float32), name=\"Accuracy\")"
      ],
      "execution_count": null,
      "outputs": []
    },
    {
      "cell_type": "markdown",
      "metadata": {
        "id": "-kKf_Rtxihqw"
      },
      "source": [
        "Training the  model "
      ]
    },
    {
      "cell_type": "code",
      "metadata": {
        "id": "ome-JopHGMRm"
      },
      "source": [
        "init=tf.global_variables_initializer()\n",
        "\n",
        "    with tf.compat.v1.Session() as sess:\n",
        "      sess.run(init)\n",
        "      writer=tf.summary.FileWriter(\"G:\\Edurekatask\\AI\\Module4\")\n",
        "      writer.add_graph(sess.graph)\n",
        "      merged_summary = tf.summary.merge_all()\n",
        "      batchsize=10\n",
        "      for epoch in range(training_epochs):\n",
        "        for i in range(len(train_X)):\n",
        "\n",
        "            start=i\n",
        "            end=i+batchsize\n",
        "            x_batch=train_X\n",
        "            y_batch=train_y\n",
        "            \n",
        "            # feeding training data/examples\n",
        "            sess.run(train_step, feed_dict={X:x_batch , Y:y_batch})\n",
        "            i+=batchsize\n",
        "        # feeding testing data to determine model accuracy\n",
        "        y_pred = sess.run(tf.argmax(a, 1), feed_dict={X: test_X})\n",
        "        print(y_predict)\n",
        "        y_true = sess.run(tf.argmax(test_y, 1))\n",
        "        summary, acc = sess.run([merged_summary, accuracy], feed_dict={X: test_X, Y: test_y})\n",
        "        # write results to summary file\n",
        "        writer.add_summary(summary, epoch)\n",
        "        # print accuracy for each epoch\n",
        "        print('epoch',epoch, acc)\n",
        "        print ('---------------')\n",
        "        print(y_pred, y_true)"
      ],
      "execution_count": null,
      "outputs": []
    }
  ]
}