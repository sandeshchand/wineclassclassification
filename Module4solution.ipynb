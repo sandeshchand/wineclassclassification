{
  "nbformat": 4,
  "nbformat_minor": 0,
  "metadata": {
    "colab": {
      "provenance": [],
      "authorship_tag": "ABX9TyNBkNAzaPbTEYgK4O+oK8j9",
      "include_colab_link": true
    },
    "kernelspec": {
      "name": "python3",
      "display_name": "Python 3"
    }
  },
  "cells": [
    {
      "cell_type": "markdown",
      "metadata": {
        "id": "view-in-github",
        "colab_type": "text"
      },
      "source": [
        "<a href=\"https://colab.research.google.com/github/sandeshchand/wineclassclassification/blob/main/Module4solution.ipynb\" target=\"_parent\"><img src=\"https://colab.research.google.com/assets/colab-badge.svg\" alt=\"Open In Colab\"/></a>"
      ]
    },
    {
      "cell_type": "markdown",
      "metadata": {
        "id": "2sDLsQILGReW"
      },
      "source": [
        "Module4 Assignment solution"
      ]
    },
    {
      "cell_type": "code",
      "metadata": {
        "id": "J-8loRB_FArW"
      },
      "source": [
        "import pandas as pd \n",
        "import matplotlib.pyplot as plt\n",
        "import tensorflow.compat.v1 as tf\n",
        "import numpy as np\n",
        "from sklearn.model_selection import train_test_split\n",
        "from sklearn.utils import shuffle\n",
        "\n",
        "from sklearn import preprocessing"
      ],
      "execution_count": null,
      "outputs": []
    },
    {
      "cell_type": "code",
      "metadata": {
        "id": "A1rOxHPHGk3i",
        "colab": {
          "base_uri": "https://localhost:8080/",
          "height": 204
        },
        "outputId": "5e7aec78-bed9-41ce-b9b5-497a83c8e992"
      },
      "source": [
        "data=pd.read_csv(r\"https://www.edureka.co/medias/giu1bur0kw/download?media_file_id=254929809\",header=0)\n",
        "data.head(5)"
      ],
      "execution_count": null,
      "outputs": [
        {
          "output_type": "execute_result",
          "data": {
            "text/html": [
              "<div>\n",
              "<style scoped>\n",
              "    .dataframe tbody tr th:only-of-type {\n",
              "        vertical-align: middle;\n",
              "    }\n",
              "\n",
              "    .dataframe tbody tr th {\n",
              "        vertical-align: top;\n",
              "    }\n",
              "\n",
              "    .dataframe thead th {\n",
              "        text-align: right;\n",
              "    }\n",
              "</style>\n",
              "<table border=\"1\" class=\"dataframe\">\n",
              "  <thead>\n",
              "    <tr style=\"text-align: right;\">\n",
              "      <th></th>\n",
              "      <th>Wine</th>\n",
              "      <th>Alcohol</th>\n",
              "      <th>Malic.acid</th>\n",
              "      <th>Ash</th>\n",
              "      <th>Acl</th>\n",
              "      <th>Mg</th>\n",
              "      <th>Phenols</th>\n",
              "      <th>Flavanoids</th>\n",
              "      <th>Nonflavanoid.phenols</th>\n",
              "      <th>Proanth</th>\n",
              "      <th>Color.int</th>\n",
              "      <th>Hue</th>\n",
              "      <th>OD</th>\n",
              "      <th>Proline</th>\n",
              "    </tr>\n",
              "  </thead>\n",
              "  <tbody>\n",
              "    <tr>\n",
              "      <th>0</th>\n",
              "      <td>1</td>\n",
              "      <td>14.23</td>\n",
              "      <td>1.71</td>\n",
              "      <td>2.43</td>\n",
              "      <td>15.6</td>\n",
              "      <td>127</td>\n",
              "      <td>2.80</td>\n",
              "      <td>3.06</td>\n",
              "      <td>0.28</td>\n",
              "      <td>2.29</td>\n",
              "      <td>5.64</td>\n",
              "      <td>1.04</td>\n",
              "      <td>3.92</td>\n",
              "      <td>1065</td>\n",
              "    </tr>\n",
              "    <tr>\n",
              "      <th>1</th>\n",
              "      <td>1</td>\n",
              "      <td>13.20</td>\n",
              "      <td>1.78</td>\n",
              "      <td>2.14</td>\n",
              "      <td>11.2</td>\n",
              "      <td>100</td>\n",
              "      <td>2.65</td>\n",
              "      <td>2.76</td>\n",
              "      <td>0.26</td>\n",
              "      <td>1.28</td>\n",
              "      <td>4.38</td>\n",
              "      <td>1.05</td>\n",
              "      <td>3.40</td>\n",
              "      <td>1050</td>\n",
              "    </tr>\n",
              "    <tr>\n",
              "      <th>2</th>\n",
              "      <td>1</td>\n",
              "      <td>13.16</td>\n",
              "      <td>2.36</td>\n",
              "      <td>2.67</td>\n",
              "      <td>18.6</td>\n",
              "      <td>101</td>\n",
              "      <td>2.80</td>\n",
              "      <td>3.24</td>\n",
              "      <td>0.30</td>\n",
              "      <td>2.81</td>\n",
              "      <td>5.68</td>\n",
              "      <td>1.03</td>\n",
              "      <td>3.17</td>\n",
              "      <td>1185</td>\n",
              "    </tr>\n",
              "    <tr>\n",
              "      <th>3</th>\n",
              "      <td>1</td>\n",
              "      <td>14.37</td>\n",
              "      <td>1.95</td>\n",
              "      <td>2.50</td>\n",
              "      <td>16.8</td>\n",
              "      <td>113</td>\n",
              "      <td>3.85</td>\n",
              "      <td>3.49</td>\n",
              "      <td>0.24</td>\n",
              "      <td>2.18</td>\n",
              "      <td>7.80</td>\n",
              "      <td>0.86</td>\n",
              "      <td>3.45</td>\n",
              "      <td>1480</td>\n",
              "    </tr>\n",
              "    <tr>\n",
              "      <th>4</th>\n",
              "      <td>1</td>\n",
              "      <td>13.24</td>\n",
              "      <td>2.59</td>\n",
              "      <td>2.87</td>\n",
              "      <td>21.0</td>\n",
              "      <td>118</td>\n",
              "      <td>2.80</td>\n",
              "      <td>2.69</td>\n",
              "      <td>0.39</td>\n",
              "      <td>1.82</td>\n",
              "      <td>4.32</td>\n",
              "      <td>1.04</td>\n",
              "      <td>2.93</td>\n",
              "      <td>735</td>\n",
              "    </tr>\n",
              "  </tbody>\n",
              "</table>\n",
              "</div>"
            ],
            "text/plain": [
              "   Wine  Alcohol  Malic.acid   Ash  ...  Color.int   Hue    OD  Proline\n",
              "0     1    14.23        1.71  2.43  ...       5.64  1.04  3.92     1065\n",
              "1     1    13.20        1.78  2.14  ...       4.38  1.05  3.40     1050\n",
              "2     1    13.16        2.36  2.67  ...       5.68  1.03  3.17     1185\n",
              "3     1    14.37        1.95  2.50  ...       7.80  0.86  3.45     1480\n",
              "4     1    13.24        2.59  2.87  ...       4.32  1.04  2.93      735\n",
              "\n",
              "[5 rows x 14 columns]"
            ]
          },
          "metadata": {
            "tags": []
          },
          "execution_count": 2
        }
      ]
    },
    {
      "cell_type": "code",
      "metadata": {
        "id": "qftQRuYiGq5m"
      },
      "source": [
        "#sess=tf.Session()\n"
      ],
      "execution_count": null,
      "outputs": []
    },
    {
      "cell_type": "code",
      "metadata": {
        "id": "CwZkN_4inhEv",
        "colab": {
          "base_uri": "https://localhost:8080/",
          "height": 88
        },
        "outputId": "4566c6bc-66ed-472d-daea-6c4c85c79bf4"
      },
      "source": [
        "sess = tf.Session()\n",
        "tf.disable_v2_behavior()\n",
        "X = data[data.columns[1:13]].values\n",
        "y =data['Wine'].values-1\n",
        "Y = tf.one_hot(indices = y, depth=3,on_value = 1., off_value = 0., axis = 1 ,name = \"a\").eval(session=sess)\n",
        "X, Y = shuffle (X, Y)\n",
        "scaler = preprocessing.StandardScaler()\n",
        "X = scaler.fit_transform(X)\n",
        "X,Y =shuffle (X, Y, random_state=1)"
      ],
      "execution_count": null,
      "outputs": [
        {
          "output_type": "stream",
          "text": [
            "WARNING:tensorflow:From /usr/local/lib/python3.6/dist-packages/tensorflow/python/compat/v2_compat.py:96: disable_resource_variables (from tensorflow.python.ops.variable_scope) is deprecated and will be removed in a future version.\n",
            "Instructions for updating:\n",
            "non-resource variables are not supported in the long term\n"
          ],
          "name": "stdout"
        }
      ]
    },
    {
      "cell_type": "code",
      "metadata": {
        "id": "S2rRCYYvOFiI"
      },
      "source": [
        "train_X,test_X,train_y,test_y=train_test_split(X,Y,test_size=0.1,random_state=30)\n",
        "train_X, train_y = shuffle (train_X, train_y, random_state=0)\n",
        "cost_history=np.empty(shape=[1],dtype=float)"
      ],
      "execution_count": null,
      "outputs": []
    },
    {
      "cell_type": "code",
      "metadata": {
        "id": "T5tkOrB0on2R"
      },
      "source": [],
      "execution_count": null,
      "outputs": []
    },
    {
      "cell_type": "code",
      "metadata": {
        "id": "ONX1Msfqhwdt",
        "colab": {
          "base_uri": "https://localhost:8080/",
          "height": 85
        },
        "outputId": "59e2b3e5-1731-47ed-b665-530a4a77a691"
      },
      "source": [
        "print(train_X.shape)\n",
        "print(train_y.shape)\n",
        "print(test_X.shape)\n",
        "print(test_y.shape)"
      ],
      "execution_count": null,
      "outputs": [
        {
          "output_type": "stream",
          "text": [
            "(160, 12)\n",
            "(160, 3)\n",
            "(18, 12)\n",
            "(18, 3)\n"
          ],
          "name": "stdout"
        }
      ]
    },
    {
      "cell_type": "code",
      "metadata": {
        "id": "cW6Z_lBus53B"
      },
      "source": [],
      "execution_count": null,
      "outputs": []
    },
    {
      "cell_type": "code",
      "metadata": {
        "id": "XiU3cu1fI_6W",
        "colab": {
          "base_uri": "https://localhost:8080/",
          "height": 34
        },
        "outputId": "7a1276f4-fa5e-4e8d-cde4-72930ae4e3a4"
      },
      "source": [
        "learning_rate=0.01\n",
        "training_epochs=1000\n",
        "\n",
        "batch_size=10\n",
        "dispaly_step=1\n",
        "n_neurons_in_h1=100\n",
        "n_neurons_in_h2=100\n",
        "n_neurons_in_h3=50\n",
        "\n",
        "n_dim=X.shape[1]\n",
        "print(n_dim)\n",
        "n_class=3"
      ],
      "execution_count": null,
      "outputs": [
        {
          "output_type": "stream",
          "text": [
            "12\n"
          ],
          "name": "stdout"
        }
      ]
    },
    {
      "cell_type": "code",
      "metadata": {
        "id": "MDbacGBCJb7D"
      },
      "source": [
        "tf.disable_v2_behavior()\n",
        "x=tf.placeholder(tf.float32,[None,n_dim])\n",
        "W=tf.Variable(tf.zeros([n_dim,n_class]))\n",
        "b=tf.Variable(tf.zeros([n_class]))\n",
        "#Y=tf.placeholder(tf.float32,[None,n_class],name='labels')"
      ],
      "execution_count": null,
      "outputs": []
    },
    {
      "cell_type": "code",
      "metadata": {
        "id": "aXdf6BZDJ3Sy"
      },
      "source": [
        "def multilayer_perception(x,weights,biases):\n",
        "\n",
        "  # 3 hidden layer with activation function\n",
        "  layer_1=tf.add(tf.matmul(x,weights['h1']),biases['b1'])\n",
        "  layer_1=tf.nn.softmax(layer_1)\n",
        "  \n",
        "\n",
        "  layer_2=tf.add(tf.matmul(layer_1,weights['h2']),biases['b2'])\n",
        "  layer_2=tf.nn.softmax(layer_2)\n",
        "  \n",
        "  layer_3=tf.add(tf.matmul(layer_2,weights['h3']),biases['b3'])\n",
        "  layer_3=tf.nn.softmax(layer_3)\n",
        "\n",
        "\n",
        "  #Output layer with linear activation function \n",
        "  out_layer=tf.add(tf.matmul(layer_3,weights['out']),biases['out'])\n",
        "  return out_layer\n",
        "  \n",
        "  \n",
        "\n",
        "\n"
      ],
      "execution_count": null,
      "outputs": []
    },
    {
      "cell_type": "code",
      "metadata": {
        "id": "9SFl8ShQLNRu",
        "colab": {
          "base_uri": "https://localhost:8080/",
          "height": 34
        },
        "outputId": "5e27fa84-d258-45fa-ae9f-4d122c737d59"
      },
      "source": [
        "weights={'h1':tf.Variable(tf.random_normal([n_dim,n_neurons_in_h1])),\n",
        "         'h2':tf.Variable(tf.random_normal([n_neurons_in_h1,n_neurons_in_h2])),\n",
        "         'h3':tf.Variable(tf.random_normal([n_neurons_in_h2,n_neurons_in_h3])),\n",
        "         'out':tf.Variable(tf.random_normal([n_neurons_in_h3,n_class]))\n",
        "         }\n",
        "\n",
        "biases={\n",
        "    'b1':tf.Variable(tf.random_normal([n_neurons_in_h1])),\n",
        "    'b2':tf.Variable(tf.random_normal([n_neurons_in_h2])),\n",
        "    'b3':tf.Variable(tf.random_normal([n_neurons_in_h3])),\n",
        "    'out':tf.Variable(tf.random_normal([n_class]))\n",
        "\n",
        "}\n",
        "init=tf.global_variables_initializer()\n",
        "y_actual=tf.placeholder(tf.float32,[None,3])\n",
        "\n",
        "print(y_actual)"
      ],
      "execution_count": null,
      "outputs": [
        {
          "output_type": "stream",
          "text": [
            "Tensor(\"Placeholder_1:0\", shape=(?, 3), dtype=float32)\n"
          ],
          "name": "stdout"
        }
      ]
    },
    {
      "cell_type": "code",
      "metadata": {
        "id": "ac35Ze1WNp7k",
        "colab": {
          "base_uri": "https://localhost:8080/",
          "height": 34
        },
        "outputId": "692a8079-ae5c-45f7-ce0e-7a206ea491de"
      },
      "source": [
        "\n",
        "y_predicted=multilayer_perception(x,weights,biases)\n",
        "print(y_predicted)"
      ],
      "execution_count": null,
      "outputs": [
        {
          "output_type": "stream",
          "text": [
            "Tensor(\"Add_3:0\", shape=(?, 3), dtype=float32)\n"
          ],
          "name": "stdout"
        }
      ]
    },
    {
      "cell_type": "code",
      "metadata": {
        "id": "E7-mXtPGYbw4",
        "colab": {
          "base_uri": "https://localhost:8080/",
          "height": 190
        },
        "outputId": "c7516883-e723-43e3-9e06-fba9d919f16c"
      },
      "source": [
        "cross_entropy=tf.reduce_mean(tf.nn.softmax_cross_entropy_with_logits(logits=y_predicted,labels=y_actual))\n",
        "\n",
        "train_step=tf.train.GradientDescentOptimizer(learning_rate).minimize(cross_entropy)\n",
        "sess=tf.Session()\n",
        "sess.run(init)\n",
        "for i in range(training_epochs):\n",
        "  sess.run(train_step,feed_dict=({x:train_X,y_actual:train_y}))\n",
        "  cost=sess.run(cross_entropy,feed_dict={x:train_X,y_actual:train_y})\n",
        "  cost_history=np.append(cost_history,cost)\n",
        "correct_prediction = tf.equal(tf.argmax(y_predicted, 1), tf.argmax(y_actual, 1))\n",
        "accuracy = tf.reduce_mean(tf.cast(correct_prediction, tf.float32))\n",
        "print(\"Accuracy\",(sess.run(accuracy,feed_dict={x: test_X, y_actual: test_y})))\n",
        "\n"
      ],
      "execution_count": null,
      "outputs": [
        {
          "output_type": "stream",
          "text": [
            "WARNING:tensorflow:From <ipython-input-12-13cd767428b1>:1: softmax_cross_entropy_with_logits (from tensorflow.python.ops.nn_ops) is deprecated and will be removed in a future version.\n",
            "Instructions for updating:\n",
            "\n",
            "Future major versions of TensorFlow will allow gradients to flow\n",
            "into the labels input on backprop by default.\n",
            "\n",
            "See `tf.nn.softmax_cross_entropy_with_logits_v2`.\n",
            "\n",
            "Accuracy 0.7222222\n"
          ],
          "name": "stdout"
        }
      ]
    }
  ]
}